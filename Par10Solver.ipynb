{
 "cells": [
  {
   "cell_type": "code",
   "execution_count": 8,
   "id": "1ef7e8d0",
   "metadata": {},
   "outputs": [],
   "source": [
    "#Imports\n",
    "import random\n",
    "import pandas as pd\n",
    "import numpy as np\n",
    "import os\n",
    "import subprocess"
   ]
  },
  {
   "cell_type": "code",
   "execution_count": 9,
   "id": "1563ba40",
   "metadata": {},
   "outputs": [],
   "source": [
    "#single run, to change the directory; necessary to perform command line actions\n",
    "os.chdir(\"knapsacksolver\")"
   ]
  },
  {
   "cell_type": "code",
   "execution_count": 14,
   "id": "d5e68ff6",
   "metadata": {},
   "outputs": [],
   "source": [
    "#only needed if cell above ran multiple times due to the structure \"knapsacksolver/knapsacksolver\"\n",
    "os.chdir(\"..\")"
   ]
  },
  {
   "cell_type": "code",
   "execution_count": 10,
   "id": "bfc867e7",
   "metadata": {},
   "outputs": [],
   "source": [
    "#Similar to FinalizeInstances, Functions to read the maximum profit and time needed.\n",
    "#Standard Values if no solution was found: max_profit = 0, time = 50000 (time will be overwritten later)\n",
    "def read_max_profit(string):\n",
    "    string = string[string.find(\"Value\"):]\n",
    "    string= string[:string.find(\"\\\\n\")]\n",
    "    if string == \"\": #Empty string cannot be converted to integer. Thus, the exception is prevented\n",
    "        return 0\n",
    "    else: \n",
    "        string = int(string[6:])\n",
    "        return string\n",
    "\n",
    "def read_time(string):\n",
    "    string = string[string.find(\"Time\"):]\n",
    "    string = string[:string.find(\"\\\\n\")]\n",
    "    if string == \"\":\n",
    "        return 50000\n",
    "    else: \n",
    "        string = round(float(string[10:]),2) #The result is sometimes more accurate for some instances \n",
    "        return string\n",
    "    return string\n",
    "\n",
    "#Funtion to perform the commandline command to solve instances with the desired algorithm\n",
    "def solve_profit_time(filepath, algorithm, time_limit, seed):\n",
    "    #Every parameter is given to the command line command\n",
    "    solution = subprocess.run([\"./bazel-bin/knapsacksolver/main -v 1 --algorithm \"+str(algorithm)+\" --input \" + str(filepath) + \" --time-limit \"+str(time_limit)+\" --seed \"+str(seed)+\" --format pisinger\"], shell=True, capture_output=True)\n",
    "    solution = str(solution.stdout)\n",
    "    profit = read_max_profit(solution)\n",
    "    time = read_time(solution)\n",
    "    #returns the profit and time for the algorithm\n",
    "    return(profit, time)"
   ]
  },
  {
   "cell_type": "code",
   "execution_count": 12,
   "id": "0a13a239",
   "metadata": {},
   "outputs": [],
   "source": [
    "#Function to compare the solution with the optimal solution and returning the time accordingly\n",
    "def calculate_score(filepath, scores, profit, time, time_limit):\n",
    "    with open(filepath) as file:\n",
    "        lines = file.readlines()\n",
    "    max_profit_line = lines[3]\n",
    "    max_profit = int(max_profit_line[2:])\n",
    "    if profit == max_profit:\n",
    "        #Instance was solved, therefore the time is the solution time\n",
    "        time = time \n",
    "    else: \n",
    "        #Instance was not solved, punished by the PAR10 score. Time_limit is given in seconds, time is in milliseconds\n",
    "        time = time_limit * 1000 * 10 \n",
    "    newrow = pd.DataFrame({\"time\": [time]}, index=[filepath]) #Definition of new row for the scores file\n",
    "    scores = pd.concat([scores, newrow]) #Append new row\n",
    "    return scores"
   ]
  },
  {
   "cell_type": "code",
   "execution_count": 129,
   "id": "a4623485",
   "metadata": {},
   "outputs": [],
   "source": [
    "time_limit = 5 #In seconds\n",
    "\n",
    "#Function for parallel calculation based on the seed\n",
    "def parallel(seed):    \n",
    "    for algorithm in [\"greedy\", \"dynamic_programming_bellman_array\", \"branch_and_bound_sort\"]: #Every algortihm for each seed\n",
    "        scores = pd.DataFrame(columns=[\"time\"]) #Create new scores file\n",
    "        for filename in os.listdir(\"dataset/\"): #All 20,300 instances\n",
    "            if \".csv\" in filename: #Avoid Jupyter checkpoints\n",
    "                filepath = \"dataset/\"+filename\n",
    "                \n",
    "                #Solve the particular instance with the given algorithm\n",
    "                profit, time = solve_profit_time(filepath, algorithm, time_limit, seed)\n",
    "                \n",
    "                #Calculate the score\n",
    "                scores = calculate_score(filepath, scores, profit, time, time_limit)\n",
    "                \n",
    "        #Write the scores into the folder \"scores\". For 10 seeds and 3 algorithms, 30 csv files are created\n",
    "        scores.to_csv(\"scores/scores_\"+str(algorithm)+\"_\"+str(seed)+\".csv\", index=True, sep=\",\", header=True, index_label=None)"
   ]
  },
  {
   "cell_type": "code",
   "execution_count": null,
   "id": "164aaf6c",
   "metadata": {},
   "outputs": [],
   "source": [
    "#Parallel Calculation of all Par10 Scores that will create 10 csv files per algorithm in folder \"scores\"\n",
    "from joblib import Parallel, delayed\n",
    "Parallel(n_jobs=8)(delayed(parallel)(i) for i in range(1,11))\n",
    "#Parallel calculation took almost 5 days, as the algorithms \"dynamic_programming_bellman_array\" and \"branch_and_bound_sort\"\n",
    "#used the entire time_limit for calculation, when not solving an instance"
   ]
  },
  {
   "cell_type": "code",
   "execution_count": 57,
   "id": "cce54050",
   "metadata": {},
   "outputs": [],
   "source": [
    "#First, non-parallel approach that would take a very long time\n",
    "#Included to depict the solving process\n",
    "'''\n",
    "time_limit = 5 #in seconds\n",
    "\n",
    "for seed in range(1,11):\n",
    "    for algorithm in [\"greedy\", \"dynamic_programming_bellman_array\", \"branch_and_bound_sort\"]:\n",
    "        scores = pd.DataFrame(columns=[\"time\"])\n",
    "        for filename in os.listdir(\"dataset/\"):\n",
    "            filepath = \"dataset/\"+filename\n",
    "            profit, time = solve_profit_time(filepath, algorithm, time_limit, seed, scores)\n",
    "            scores = calculate_score(filepath, scores, profit, time, time_limit)\n",
    "        scores.to_csv(\"scores/scores_\"+str(algorithm)+\"_\"+str(seed)+\".csv\", index=True, sep=\",\", header=True, index_label=None)\n",
    "'''"
   ]
  },
  {
   "cell_type": "code",
   "execution_count": 132,
   "id": "851e8d02",
   "metadata": {
    "scrolled": false
   },
   "outputs": [],
   "source": [
    "#Averaging the scores of each runs, combining the scores into a single file\n",
    "par10_file = pd.DataFrame()\n",
    "for algorithm in [\"greedy\", \"dynamic_programming_bellman_array\", \"branch_and_bound_sort\"]:\n",
    "    concat_file = pd.DataFrame() #DataFrame for each algorithm\n",
    "    for seed in range(1,11): \n",
    "        #Read all score files and add the columns to the DataFrame\n",
    "        single_column = pd.read_csv(\"scores/scores_\"+str(algorithm)+\"_\"+str(seed)+\".csv\", header=0, index_col=0)\n",
    "        concat_file = pd.concat([concat_file, single_column], axis = 1, join=\"outer\", sort=True)\n",
    "    \n",
    "    #Calculate the average of the 10 runs\n",
    "    concat_file = pd.DataFrame(round(concat_file.mean(axis=1), 4))\n",
    "    \n",
    "    #Set the column name\n",
    "    concat_file.columns = [algorithm]\n",
    "    \n",
    "    #Add the algorithm to the par10 file\n",
    "    par10_file = pd.concat([par10_file, concat_file], axis = 1, join=\"outer\", sort=True)\n",
    "\n",
    "#Saving the file in folder scores    \n",
    "par10_file.to_csv(\"scores/par10_scores.csv\", index=True, sep=\",\", header=True, index_label=None)"
   ]
  },
  {
   "cell_type": "code",
   "execution_count": 5,
   "id": "9acb19d7",
   "metadata": {},
   "outputs": [],
   "source": [
    "#Rewrite index to match indices in instances.csv\n",
    "scores = pd.DataFrame(pd.read_csv(\"scores/par10_scores.csv\", header=0, index_col=0))\n",
    "scores.index = scores.index.str[8:] #Remove the \"dataset/\" from the filepath\n",
    "scores.to_csv(\"scores/par10_scores.csv\", index=True, sep=\",\", header=True, index_label=None)"
   ]
  },
  {
   "cell_type": "code",
   "execution_count": 16,
   "id": "e7669eba",
   "metadata": {},
   "outputs": [],
   "source": [
    "#Combo as benchmark, not included in the thesis\n",
    "#Solving each instance with the algorihm combo once, identical structure as before (apart from parallel programming)\n",
    "time_limit = 5 #in seconds\n",
    "seed = 1\n",
    "#Function for parallel calculation\n",
    "for algorithm in [\"combo\"]:\n",
    "    scores = pd.DataFrame(columns=[\"time\"])\n",
    "    for filename in os.listdir(\"dataset/\"):\n",
    "        if \".csv\" in filename:\n",
    "            filepath = \"dataset/\"+filename\n",
    "            profit, time = solve_profit_time(filepath, algorithm, time_limit, seed, scores)\n",
    "            scores = calculate_score(filepath, scores, profit, time, time_limit)\n",
    "    scores.to_csv(\"scores/scores_\"+str(algorithm)+\"_\"+str(seed)+\".csv\", index=True, sep=\",\", header=True, index_label=None)"
   ]
  }
 ],
 "metadata": {
  "kernelspec": {
   "display_name": "Python 3 (ipykernel)",
   "language": "python",
   "name": "python3"
  },
  "language_info": {
   "codemirror_mode": {
    "name": "ipython",
    "version": 3
   },
   "file_extension": ".py",
   "mimetype": "text/x-python",
   "name": "python",
   "nbconvert_exporter": "python",
   "pygments_lexer": "ipython3",
   "version": "3.10.6"
  }
 },
 "nbformat": 4,
 "nbformat_minor": 5
}
