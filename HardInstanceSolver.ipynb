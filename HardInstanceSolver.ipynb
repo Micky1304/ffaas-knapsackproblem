{
 "cells": [
  {
   "cell_type": "code",
   "execution_count": 1,
   "id": "e94f3d73",
   "metadata": {},
   "outputs": [],
   "source": [
    "#Instances locally converted to match Piesinger's format and uploaded to the folder \"hardInstancesPI\"\n",
    "#As the process is almost identical to the Par10Solver, the code is almost identical as well\n",
    "import random\n",
    "import pandas as pd\n",
    "import numpy as np\n",
    "import os\n",
    "import subprocess"
   ]
  },
  {
   "cell_type": "code",
   "execution_count": 2,
   "id": "fcc8d1db",
   "metadata": {},
   "outputs": [],
   "source": [
    "#single run, to change the directory; necessary to perform commandline actions\n",
    "os.chdir(\"knapsacksolver\")"
   ]
  },
  {
   "cell_type": "code",
   "execution_count": null,
   "id": "a41eb573",
   "metadata": {},
   "outputs": [],
   "source": [
    "#only needed if cell above ran multiple times, undo action\n",
    "os.chdir(\"..\")"
   ]
  },
  {
   "cell_type": "code",
   "execution_count": 3,
   "id": "962cc1ca",
   "metadata": {},
   "outputs": [],
   "source": [
    "#Similar to FinalizeInstances, Functions to read the maximum profit and necessary time\n",
    "#Standard Values of no solution was found: max_profit = 0, time = 50000 (time will be overwritten later)\n",
    "def read_max_profit(string):\n",
    "    string = string[string.find(\"Value\"):]\n",
    "    string= string[:string.find(\"\\\\n\")]\n",
    "    if string == \"\":\n",
    "        return 0\n",
    "    else: \n",
    "        string = int(string[6:])\n",
    "        return string\n",
    "\n",
    "def read_time(string):\n",
    "    string = string[string.find(\"Time\"):]\n",
    "    string = string[:string.find(\"\\\\n\")]\n",
    "    if string == \"\":\n",
    "        return 50000\n",
    "    else: \n",
    "        string = round(float(string[10:]),2)\n",
    "        return string\n",
    "    return string\n",
    "\n",
    "#Funtion to perform the commandline command\n",
    "def solve_profit_time(filepath, algorithm, time_limit, seed, scores):\n",
    "    solution = subprocess.run([\"./bazel-bin/knapsacksolver/main -v 1 --algorithm \"+str(algorithm)+\" --input \" + str(filepath) + \" --time-limit \"+str(time_limit)+\" --seed \"+str(seed)+\" --format pisinger\"], shell=True, capture_output=True)\n",
    "    solution = str(solution.stdout)\n",
    "    profit = read_max_profit(solution)\n",
    "    time = read_time(solution)\n",
    "    return(profit, time)"
   ]
  },
  {
   "cell_type": "code",
   "execution_count": 5,
   "id": "ad811132",
   "metadata": {},
   "outputs": [],
   "source": [
    "#Identical to the Par10Solver\n",
    "#Function to compare the solution with the optimal solution and returning the time accordingly\n",
    "def calculate_score(filepath, scores, profit, time, time_limit):\n",
    "    with open(filepath) as file:\n",
    "        lines = file.readlines()\n",
    "    max_profit_line = lines[3]\n",
    "    max_profit = int(max_profit_line[2:])\n",
    "    if profit == max_profit:\n",
    "        time = time\n",
    "    else: time = time_limit * 1000 * 10 #time_limit in s, time in ms\n",
    "    newrow = pd.DataFrame({\"time\": [time]}, index=[filepath])\n",
    "    scores = pd.concat([scores, newrow])\n",
    "    return scores"
   ]
  },
  {
   "cell_type": "code",
   "execution_count": 6,
   "id": "b6459c3a",
   "metadata": {},
   "outputs": [],
   "source": [
    "time_limit = 10 #in seconds\n",
    "\n",
    "#Function for parallel calculation\n",
    "def parallel(seed):    \n",
    "    for algorithm in [\"greedy\", \"dynamic_programming_bellman_array\", \"branch_and_bound_sort\"]:\n",
    "        scores = pd.DataFrame(columns=[\"time\"])\n",
    "        for filename in os.listdir(\"hardInstancesPI/\"):\n",
    "            if \".csv\" in filename:\n",
    "                filepath = \"hardInstancesPI/\"+filename\n",
    "                profit, time = solve_profit_time(filepath, algorithm, time_limit, seed, scores)\n",
    "                scores = calculate_score(filepath, scores, profit, time, time_limit)\n",
    "        scores.to_csv(\"hardInstancesScores/scores_\"+str(algorithm)+\"_\"+str(seed)+\".csv\", index=True, sep=\",\", header=True, index_label=None)"
   ]
  },
  {
   "cell_type": "code",
   "execution_count": 7,
   "id": "38fc4d51",
   "metadata": {},
   "outputs": [
    {
     "data": {
      "text/plain": [
       "[None]"
      ]
     },
     "execution_count": 7,
     "metadata": {},
     "output_type": "execute_result"
    }
   ],
   "source": [
    "#(Parallel) Calculation of the score of a single run that will create 1 csv file per algorithm in folder hardInstancesScores\n",
    "from joblib import Parallel, delayed\n",
    "Parallel(n_jobs=8)(delayed(parallel)(i) for i in range(1))"
   ]
  },
  {
   "cell_type": "code",
   "execution_count": 22,
   "id": "b5a9de3a",
   "metadata": {},
   "outputs": [],
   "source": [
    "import pandas as pd\n",
    "import os\n",
    "#Concat scores, as it was only a single run, no average needs to be calculated\n",
    "score_path = \"knapsacksolver/hardInstancesScores/\"\n",
    "hard_scores = pd.DataFrame()\n",
    "for filename in os.listdir(score_path): #List all scores\n",
    "    if \"hard\" in filename: #Exclude the combined file\n",
    "        continue\n",
    "    solver = filename[7:-6] #remove the 7 first and 6 last symbols from the filename: \"scores_..._0.csv\"\n",
    "    filepath = score_path + filename\n",
    "    algorithm_results = pd.DataFrame(pd.read_csv(filepath, header=0, index_col=0))\n",
    "    algorithm_results.columns = [solver] #Set the columnname\n",
    "    \n",
    "    #Append the combined file with the algorithm\n",
    "    hard_scores = pd.concat([hard_scores, algorithm_results], axis = 1, join=\"outer\", sort=True)\n",
    "\n",
    "#Rename columns and save the file as \"hardInstancesScores/hard_scores\"\n",
    "hard_scores = hard_scores.rename(columns={\"dynamic_programming_bellman_array\":\"dynamic_programming\", \"branch_and_bound_sort\": \"branch_and_bound\"})\n",
    "hard_scores.to_csv(\"knapsacksolver/hardInstancesScores/hard_scores.csv\", index=True, sep=\",\", header=True, index_label=None)"
   ]
  },
  {
   "cell_type": "code",
   "execution_count": 45,
   "id": "eb79076c",
   "metadata": {},
   "outputs": [
    {
     "name": "stdout",
     "output_type": "stream",
     "text": [
      "dynamic_programming solved 216 instances\n",
      "greedy solved 1 instances\n",
      "branch_and_bound solved 89 instances\n",
      "at_least_one_algorithm solved 227 instances\n"
     ]
    }
   ],
   "source": [
    "#Amount of solved instances, where the score is not 100,000\n",
    "amount_solved = hard_scores.copy()\n",
    "amount_solved[\"at_least_one_algorithm\"] = amount_solved.min(axis=1)\n",
    "for column in amount_solved.columns:\n",
    "    count = amount_solved[column][amount_solved[column] != 100000].count()\n",
    "    print(str(column)+\" solved \" + str(count) + \" instances\")"
   ]
  },
  {
   "cell_type": "code",
   "execution_count": 37,
   "id": "93761cf0",
   "metadata": {},
   "outputs": [
    {
     "data": {
      "image/png": "[encoded data removed]",
      "text/plain": [
       "<Figure size 640x480 with 1 Axes>"
      ]
     },
     "metadata": {},
     "output_type": "display_data"
    }
   ],
   "source": [
    "import matplotlib.pyplot as plt\n",
    "#Same graph as in ScoreOverview.ipynb to illustrate the performance of the algorithms\n",
    "\n",
    "#Sort each algorithm individually and reset the index\n",
    "greedy = pd.DataFrame(hard_scores[\"greedy\"])\n",
    "greedy = greedy.sort_values(\"greedy\", ascending=True)\n",
    "greedy = greedy.reset_index(drop=True)\n",
    "dynamic_programming = pd.DataFrame(hard_scores[\"dynamic_programming\"])\n",
    "dynamic_programming = dynamic_programming.sort_values(\"dynamic_programming\", ascending=True)\n",
    "dynamic_programming = dynamic_programming.reset_index(drop=True)\n",
    "branch_and_bound = pd.DataFrame(hard_scores[\"branch_and_bound\"])\n",
    "branch_and_bound = branch_and_bound.sort_values(\"branch_and_bound\", ascending=True)\n",
    "branch_and_bound = branch_and_bound.reset_index(drop=True)\n",
    "\n",
    "#Plot the three algortihms in the same plot\n",
    "plt.plot(greedy, label=\"Greedy\")\n",
    "plt.plot(dynamic_programming, label=\"Dynamic Programming\")\n",
    "plt.plot(branch_and_bound, label=\"Branch and Bound\")\n",
    "\n",
    "#Set title and labels\n",
    "plt.xlabel(\"Number Of Instances\", fontsize=10)\n",
    "plt.ylabel(\"Score\", fontsize=10)\n",
    "plt.title(\"Ascending Scores\", fontsize=12)\n",
    "\n",
    "#Set font size for axis notations\n",
    "plt.gca().tick_params(axis='both', which='major', labelsize=8)\n",
    "\n",
    "#Add the legend\n",
    "plt.legend()\n",
    "\n",
    "plt.rcParams['savefig.dpi'] = 1000 #Increase the resolution for a png file (not used here as it is saved as pdf)\n",
    "plt.savefig(\"figures/hard_ascending_scores.pdf\") #Save the figure in \"figures\"\n",
    "plt.show()"
   ]
  },
  {
   "cell_type": "code",
   "execution_count": 44,
   "id": "82757519",
   "metadata": {},
   "outputs": [
    {
     "data": {
      "image/png": "[encoded data removed]",
      "text/plain": [
       "<Figure size 640x480 with 1 Axes>"
      ]
     },
     "metadata": {},
     "output_type": "display_data"
    }
   ],
   "source": [
    "#Graph to illustrate an instance of the hard instances\n",
    "#Functions already used\n",
    "def read_profit(line):\n",
    "    line = str(line)\n",
    "    line = line[(line.find(\",\")+1):]\n",
    "    line = line[:line.find(\",\")]\n",
    "    return int(line)\n",
    "\n",
    "def read_weight(line):\n",
    "    line = str(line)\n",
    "    line = line[(line.find(\",\")+1):]\n",
    "    line = line[(line.find(\",\")+1):]\n",
    "    line = line[:line.find(\",\")]\n",
    "    return int(line)\n",
    "\n",
    "def build_items(items):\n",
    "    for index in items.index:\n",
    "        profit = read_profit(items[0][index])\n",
    "        weight = read_weight(items[0][index])\n",
    "        items.at[index, \"profit\"] = profit\n",
    "        items.at[index, \"weight\"] = weight\n",
    "    return pd.concat([items[\"profit\"], items[\"weight\"]], axis=1)\n",
    "\n",
    "#Very similar to the overview of the generation rules\n",
    "file = \"n_1000_c_1000000_g_6_f_0.3_eps_1e-05_s_100.csv\" #Example file, no major differences across the instances\n",
    "with open(\"knapsacksolver/hardInstancesPI/\"+file) as file:\n",
    "    lines = file.readlines()\n",
    "items = pd.DataFrame(lines[5:])\n",
    "items = build_items(items)\n",
    "\n",
    "#Plot the points with very low alpha but a size increase\n",
    "plt.scatter(items[\"weight\"], items[\"profit\"], alpha = 0.01, color=\"b\", s=5)\n",
    "\n",
    "#Set title and label\n",
    "plt.xlabel(\"Weight\", fontsize=10)\n",
    "plt.ylabel(\"Profit\", fontsize=10)\n",
    "plt.title(\"Hard Instance Example\", fontsize=12)\n",
    "\n",
    "#Set font size for axis notations\n",
    "plt.gca().tick_params(axis='both', which='major', labelsize=8)\n",
    "\n",
    "plt.rcParams['savefig.dpi'] = 1000\n",
    "plt.savefig(\"figures/hard_instance.pdf\") #Save as pdf\n",
    "plt.show()"
   ]
  }
 ],
 "metadata": {
  "kernelspec": {
   "display_name": "Python 3 (ipykernel)",
   "language": "python",
   "name": "python3"
  },
  "language_info": {
   "codemirror_mode": {
    "name": "ipython",
    "version": 3
   },
   "file_extension": ".py",
   "mimetype": "text/x-python",
   "name": "python",
   "nbconvert_exporter": "python",
   "pygments_lexer": "ipython3",
   "version": "3.10.6"
  }
 },
 "nbformat": 4,
 "nbformat_minor": 5
}
